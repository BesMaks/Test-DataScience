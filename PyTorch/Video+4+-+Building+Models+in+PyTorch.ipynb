{
 "cells": [
  {
   "cell_type": "markdown",
   "metadata": {},
   "source": [
    "# Building Models in PyTorch\n",
    "\n",
    "\n",
    "## `torch.nn.Module` and `torch.nn.Parameter`\n",
    "\n",
    "In this video, we'll be discussing some of the tools PyTorch makes available for building deep learning networks.\n",
    "\n",
    "Except for `Parameter`, the classes we discuss in this video are all subclasses of `torch.nn.Module`. This is the PyTorch base class meant to encapsulate behaviors specific to PyTorch Models and their components.\n",
    "\n",
    "One important behavior of `torch.nn.Module` is registering parameters. If a particular `Module` subclass has learning weights, these weights are expressed as instances of `torch.nn.Parameter`. The `Parameter` class is a subclass of `torch.Tensor`, with the special behavior that when they are assigned as attributes of a `Module`, they are added to the list of that modules parameters. These parameters may be accessed through the `parameters()` method on the `Module` class.\n",
    "\n",
    "As a simple example, here's a very simple model with two linear layers and an activation function. We'll create an instance of it and ask it to report on its parameters:"
   ]
  },
  {
   "cell_type": "code",
   "execution_count": 1,
   "metadata": {},
   "outputs": [
    {
     "name": "stdout",
     "output_type": "stream",
     "text": [
      "The model:\n",
      "TinyModel(\n",
      "  (linear1): Linear(in_features=100, out_features=200, bias=True)\n",
      "  (activation): ReLU()\n",
      "  (linear2): Linear(in_features=200, out_features=10, bias=True)\n",
      "  (softmax): Softmax(dim=None)\n",
      ")\n",
      "\n",
      "\n",
      "Just one layer:\n",
      "Linear(in_features=200, out_features=10, bias=True)\n",
      "\n",
      "\n",
      "Model params:\n",
      "Parameter containing:\n",
      "tensor([[ 0.0896, -0.0912, -0.0484,  ..., -0.0927, -0.0490,  0.0176],\n",
      "        [ 0.0913, -0.0999, -0.0077,  ..., -0.0848,  0.0274, -0.0281],\n",
      "        [ 0.0368,  0.0857,  0.0254,  ..., -0.0655,  0.0107, -0.0591],\n",
      "        ...,\n",
      "        [-0.0457,  0.0526, -0.0569,  ..., -0.0492,  0.0069, -0.0111],\n",
      "        [-0.0766, -0.0036,  0.0163,  ...,  0.0071,  0.0922, -0.0389],\n",
      "        [-0.0782, -0.0230,  0.0637,  ...,  0.0905, -0.0576, -0.0649]],\n",
      "       requires_grad=True)\n",
      "Parameter containing:\n",
      "tensor([ 0.0930, -0.0515,  0.0365, -0.0393, -0.0905, -0.0511,  0.0040,  0.0358,\n",
      "        -0.0866, -0.0060, -0.0689, -0.0472, -0.0404,  0.0470,  0.0261, -0.0050,\n",
      "         0.0729,  0.0865, -0.0973,  0.0883, -0.0163,  0.0938,  0.0405,  0.0578,\n",
      "         0.0829, -0.0395,  0.0018,  0.0364,  0.0220, -0.0465,  0.0088, -0.0111,\n",
      "         0.0114, -0.0784, -0.0831, -0.0251,  0.0821,  0.0815, -0.0267,  0.0608,\n",
      "         0.0335,  0.0764,  0.0514,  0.0196,  0.0074,  0.0070, -0.0525, -0.0787,\n",
      "        -0.0197,  0.0207, -0.0230,  0.0269, -0.0188, -0.0280, -0.0226,  0.0221,\n",
      "        -0.0178,  0.0892,  0.0290,  0.0418,  0.0066,  0.0081, -0.0703,  0.0238,\n",
      "        -0.0294,  0.0626, -0.0397, -0.0963,  0.0286, -0.0365, -0.0294,  0.0264,\n",
      "         0.0605,  0.0853,  0.0911, -0.0091, -0.0113,  0.0697,  0.0114, -0.0554,\n",
      "         0.0609,  0.0834,  0.0331,  0.0472, -0.0852,  0.0293, -0.0985,  0.0315,\n",
      "        -0.0251,  0.0070, -0.0804,  0.0584,  0.0488,  0.0946, -0.0633, -0.0369,\n",
      "         0.0129, -0.0693, -0.0544, -0.0065,  0.0081, -0.0027, -0.0779,  0.0592,\n",
      "        -0.0202,  0.0854,  0.0925, -0.0523, -0.0551, -0.0656,  0.0658, -0.0693,\n",
      "        -0.0609, -0.0001,  0.0249, -0.0498, -0.0033,  0.0289,  0.0399, -0.0164,\n",
      "         0.0060, -0.0041,  0.0875,  0.0332, -0.0837, -0.0928, -0.0471,  0.0060,\n",
      "         0.0422,  0.0956,  0.0436, -0.0920,  0.0090,  0.0137,  0.0102,  0.0123,\n",
      "        -0.0021, -0.0561,  0.0673, -0.0505, -0.0285, -0.0562, -0.0440, -0.0095,\n",
      "        -0.0958, -0.0365, -0.0465,  0.0412,  0.0664, -0.0618,  0.0651,  0.0822,\n",
      "        -0.0934, -0.0059, -0.0021,  0.0536,  0.0675,  0.0123, -0.0101, -0.0358,\n",
      "        -0.0883,  0.0871,  0.0819, -0.0766, -0.0674, -0.0617,  0.0320, -0.0288,\n",
      "         0.0644, -0.0028, -0.0734, -0.0383,  0.0001,  0.0073, -0.0060, -0.0528,\n",
      "        -0.0872,  0.0427,  0.0235, -0.0619, -0.0356,  0.0145, -0.0182, -0.0399,\n",
      "         0.0406,  0.0353, -0.0147, -0.0924,  0.0419,  0.0855,  0.0131,  0.0860,\n",
      "        -0.0320,  0.0519,  0.0330,  0.0571, -0.0258, -0.0738, -0.0673,  0.0783],\n",
      "       requires_grad=True)\n",
      "Parameter containing:\n",
      "tensor([[ 0.0264,  0.0489,  0.0302,  ...,  0.0215,  0.0318,  0.0541],\n",
      "        [ 0.0012, -0.0287,  0.0393,  ..., -0.0410, -0.0633,  0.0227],\n",
      "        [ 0.0419,  0.0071, -0.0517,  ..., -0.0547,  0.0177, -0.0349],\n",
      "        ...,\n",
      "        [-0.0483,  0.0029,  0.0399,  ...,  0.0343,  0.0191,  0.0237],\n",
      "        [ 0.0034,  0.0094, -0.0498,  ..., -0.0362, -0.0516,  0.0359],\n",
      "        [ 0.0042, -0.0642, -0.0246,  ..., -0.0286,  0.0186, -0.0658]],\n",
      "       requires_grad=True)\n",
      "Parameter containing:\n",
      "tensor([-0.0455,  0.0688, -0.0249, -0.0479, -0.0459,  0.0034, -0.0061, -0.0679,\n",
      "         0.0272,  0.0199], requires_grad=True)\n",
      "\n",
      "\n",
      "Layer params:\n",
      "Parameter containing:\n",
      "tensor([[ 0.0264,  0.0489,  0.0302,  ...,  0.0215,  0.0318,  0.0541],\n",
      "        [ 0.0012, -0.0287,  0.0393,  ..., -0.0410, -0.0633,  0.0227],\n",
      "        [ 0.0419,  0.0071, -0.0517,  ..., -0.0547,  0.0177, -0.0349],\n",
      "        ...,\n",
      "        [-0.0483,  0.0029,  0.0399,  ...,  0.0343,  0.0191,  0.0237],\n",
      "        [ 0.0034,  0.0094, -0.0498,  ..., -0.0362, -0.0516,  0.0359],\n",
      "        [ 0.0042, -0.0642, -0.0246,  ..., -0.0286,  0.0186, -0.0658]],\n",
      "       requires_grad=True)\n",
      "Parameter containing:\n",
      "tensor([-0.0455,  0.0688, -0.0249, -0.0479, -0.0459,  0.0034, -0.0061, -0.0679,\n",
      "         0.0272,  0.0199], requires_grad=True)\n"
     ]
    }
   ],
   "source": [
    "import torch\n",
    "\n",
    "class TinyModel(torch.nn.Module):\n",
    "    \n",
    "    def __init__(self):\n",
    "        super(TinyModel, self).__init__()\n",
    "        \n",
    "        self.linear1 = torch.nn.Linear(100, 200)\n",
    "        self.activation = torch.nn.ReLU()\n",
    "        self.linear2 = torch.nn.Linear(200, 10)\n",
    "        self.softmax = torch.nn.Softmax()\n",
    "    \n",
    "    def forward(self, x):\n",
    "        x = self.linear1(x)\n",
    "        x = self.activation(x)\n",
    "        x = self.linear2(x)\n",
    "        x = self.softmax(x)\n",
    "        return x\n",
    "\n",
    "tinymodel = TinyModel()\n",
    "\n",
    "print('The model:')\n",
    "print(tinymodel)\n",
    "\n",
    "print('\\n\\nJust one layer:')\n",
    "print(tinymodel.linear2)\n",
    "\n",
    "print('\\n\\nModel params:')\n",
    "for param in tinymodel.parameters():\n",
    "    print(param)\n",
    "\n",
    "print('\\n\\nLayer params:')\n",
    "for param in tinymodel.linear2.parameters():\n",
    "    print(param)"
   ]
  },
  {
   "cell_type": "markdown",
   "metadata": {},
   "source": [
    "This shows the fundamental structure of a PyTorch model: there is an `__init__()` method that defines the layers and other components of a model, and a `forward()` method where the computation gets done. Note that we can print the model, or any of its submodules, to learn about its structure.\n",
    "\n",
    "## Common Layer Types\n",
    "\n",
    "### Linear Layers\n",
    "\n",
    "The most basic type of neural network layer is a *linear* or *fully connected* layer. This is a layer where every input influences every output of the layer to a degree specified by the layer's weights. If a model has *m* inputs and *n* outputs, the weights will be an *m * n* matrix. For example:"
   ]
  },
  {
   "cell_type": "code",
   "execution_count": 2,
   "metadata": {},
   "outputs": [
    {
     "name": "stdout",
     "output_type": "stream",
     "text": [
      "Input:\n",
      "tensor([[0.1345, 0.9579, 0.4211]])\n",
      "\n",
      "\n",
      "Weight and Bias parameters:\n",
      "Parameter containing:\n",
      "tensor([[-0.3671, -0.2395,  0.2291],\n",
      "        [-0.0328, -0.4303,  0.3266]], requires_grad=True)\n",
      "Parameter containing:\n",
      "tensor([0.0684, 0.3725], requires_grad=True)\n",
      "\n",
      "\n",
      "Output:\n",
      "tensor([[-0.1139,  0.0935]], grad_fn=<AddmmBackward0>)\n"
     ]
    }
   ],
   "source": [
    "lin = torch.nn.Linear(3, 2)\n",
    "x = torch.rand(1, 3)\n",
    "print('Input:')\n",
    "print(x)\n",
    "\n",
    "print('\\n\\nWeight and Bias parameters:')\n",
    "for param in lin.parameters():\n",
    "    print(param)\n",
    "\n",
    "y = lin(x)\n",
    "print('\\n\\nOutput:')\n",
    "print(y)"
   ]
  },
  {
   "cell_type": "markdown",
   "metadata": {},
   "source": [
    "If you do the matrix multiplication of `x` by the linear layer's weights, and add the biases, you'll find that you get the output vector `y`.\n",
    "\n",
    "One other important feature to note: When we checked the weights of our layer with `lin.weight`, it reported itself as a `Parameter` (which is a subclass of `Tensor`), and let us know that it's tracking gradients with autograd. This is a default behavior for `Parameter` that differs from `Tensor`.\n",
    "\n",
    "Linear layers are used widely in deep learning models. One of the most common places you'll see them is in classifier models, which will usually have one or more linear layers at the end, where the last layer will have *n* outputs, where *n* is the number of classes the classifier addresses.\n",
    "\n",
    "### Convolutional Layers\n",
    "\n",
    "*Convolutional* layers are built to handle data with a high degree of spatial correlation. They are very commonly used in computer vision, where they detect close groupings of features which the compose into higher-level features. They pop up in other contexts too - for example, in NLP applications, where the a word's immediate context (that is, the other words nearby in the sequence) can affect the meaning of a sentence.\n",
    "\n",
    "We saw convolutional layers in action in LeNet5 in an earlier video:"
   ]
  },
  {
   "cell_type": "code",
   "execution_count": 3,
   "metadata": {},
   "outputs": [],
   "source": [
    "import torch.functional as F\n",
    "\n",
    "\n",
    "class LeNet(torch.nn.Module):\n",
    "\n",
    "    def __init__(self):\n",
    "        super(LeNet, self).__init__()\n",
    "        # 1 input image channel (black & white), 6 output channels, 3x3 square convolution\n",
    "        # kernel\n",
    "        self.conv1 = torch.nn.Conv2d(1, 6, 5)\n",
    "        self.conv2 = torch.nn.Conv2d(6, 16, 3)\n",
    "        # an affine operation: y = Wx + b\n",
    "        self.fc1 = torch.nn.Linear(16 * 6 * 6, 120)  # 6*6 from image dimension\n",
    "        self.fc2 = torch.nn.Linear(120, 84)\n",
    "        self.fc3 = torch.nn.Linear(84, 10)\n",
    "\n",
    "    def forward(self, x):\n",
    "        # Max pooling over a (2, 2) window\n",
    "        x = F.max_pool2d(F.relu(self.conv1(x)), (2, 2))\n",
    "        # If the size is a square you can only specify a single number\n",
    "        x = F.max_pool2d(F.relu(self.conv2(x)), 2)\n",
    "        x = x.view(-1, self.num_flat_features(x))\n",
    "        x = F.relu(self.fc1(x))\n",
    "        x = F.relu(self.fc2(x))\n",
    "        x = self.fc3(x)\n",
    "        return x\n",
    "\n",
    "    def num_flat_features(self, x):\n",
    "        size = x.size()[1:]  # all dimensions except the batch dimension\n",
    "        num_features = 1\n",
    "        for s in size:\n",
    "            num_features *= s\n",
    "        return num_features"
   ]
  },
  {
   "cell_type": "markdown",
   "metadata": {},
   "source": [
    "Let's break down what's happening in the convolutional layers of this model. Starting with `conv1`:\n",
    "\n",
    "* LeNet5 is meant to take in a 1x32x32 black & white image. **The first argument to a convolutional layer's constructor is the number of input channels.** Here, it is 1. If we were building this model to look at 3-color channels, it would be 3.\n",
    "* A convolutional layer is like a window that scans over the image, looking for a pattern it recognizes. These patterns are called *features,* and one of the parameters of a convolutional layer is the number of features we would like it to learn. **This is the second argument to the constructor is the number of output features.** Here, we're asking our layer to learn 6 features.\n",
    "* Just above, I likened the convolutional layer to a window - but how big is the window? **The third argument is the window or *kernel* size.** Here, the \"5\" means we've chosen a 5x5 kernel. (If you want a kernel with height different from width, you can specify a tuple for this argument - e.g., `(3, 5)` to get a 3x5 convolution kernel.)\n",
    "\n",
    "The output of a convolutional layer is an *activation map* - a spatial representation of the presence of features in the input tensor. `conv1` will give us an output tensor of 6x28x28; 6 is the number of features, and 28 is the height and width of our map. (The 28 comes from the fact that when scanning a 5-pixel window over a 32-pixel row, there are only 28 valid positions.)\n",
    "\n",
    "We then pass the output of the convolution through a ReLU activation function (more on activation functions later), then through a max pooling layer. The max pooling layer takes features near each other in the activation map and groups them together. It does this by reducing the tensor, merging every 2x2 group of cells in the output into a single cell, and assigning that cell the maximum value of the 4 cells that went into it. This gives us a lower-resolution version of the activation map, with dimensions 6x14x14.\n",
    "\n",
    "Our next convolutional layer, `conv2`, expects 6 input channels (corresponding to the 6 features sought by the first layer), has 16 output channels, and a 3x3 kernel. It puts out a 16x12x12 activation map, which is again reduced by a max pooling layer to 16x6x6. Prior to passing this output to the linear layers, it is reshaped to a 16 * 6 * 6 = 576-element vector for consumption by the next layer.\n",
    "\n",
    "There are convolutional layers for addressing 1D, 2D, and 3D tensors. There are also many more optional arguments for a conv layer constructor, including stride length(e.g., only scanning every second or every third position) in the input, padding (so you can scan out to the edges of the input), and more. See the [documentation](https://pytorch.org/docs/stable/nn.html#convolution-layers) for more information.\n",
    "\n",
    "### Recurrent Layers\n",
    "\n",
    "*Recurrent neural networks* (or *RNNs)* are used for sequential data - anything from time-series measurements from a scientific instrument to natural language sentences to DNA nucleotides. An RNN does this by maintaining a *hidden state* that acts as a sort of memory for what it has seen in the sequence so far.\n",
    "\n",
    "The internal structure of an RNN layer - or its variants, the LSTM (long short-term memory) and GRU (gated recurrent unit) - is moderately complex and beyond the scope of this video, but we'll show you what one looks like in action with an LSTM-based part-of-speech tagger (a type of classifier that tells you if a word is a noun, verb, etc.):"
   ]
  },
  {
   "cell_type": "code",
   "execution_count": 4,
   "metadata": {},
   "outputs": [],
   "source": [
    "class LSTMTagger(torch.nn.Module):\n",
    "\n",
    "    def __init__(self, embedding_dim, hidden_dim, vocab_size, tagset_size):\n",
    "        super(LSTMTagger, self).__init__()\n",
    "        self.hidden_dim = hidden_dim\n",
    "\n",
    "        self.word_embeddings = torch.nn.Embedding(vocab_size, embedding_dim)\n",
    "\n",
    "        # The LSTM takes word embeddings as inputs, and outputs hidden states\n",
    "        # with dimensionality hidden_dim.\n",
    "        self.lstm = torch.nn.LSTM(embedding_dim, hidden_dim)\n",
    "\n",
    "        # The linear layer that maps from hidden state space to tag space\n",
    "        self.hidden2tag = torch.nn.Linear(hidden_dim, tagset_size)\n",
    "\n",
    "    def forward(self, sentence):\n",
    "        embeds = self.word_embeddings(sentence)\n",
    "        lstm_out, _ = self.lstm(embeds.view(len(sentence), 1, -1))\n",
    "        tag_space = self.hidden2tag(lstm_out.view(len(sentence), -1))\n",
    "        tag_scores = F.log_softmax(tag_space, dim=1)\n",
    "        return tag_scores"
   ]
  },
  {
   "cell_type": "markdown",
   "metadata": {},
   "source": [
    "The constructor has four arguments:\n",
    "\n",
    "* `vocab_size` is the number of words in the input vocabulary. Each word is a one-hot vector (or unit vector) in a `vocab_size`-dimensional space.\n",
    "* `tagset_size` is the number of tags in the output set.\n",
    "* `embedding_dim` is the size of the *embedding* space for the vocabulary. An embedding maps a vocabulary onto a low-dimensional space, where words with similar meanings are close together in the space.\n",
    "* `hidden_dim` is the size of the LSTM's memory.\n",
    "\n",
    "The input will be a sentence with the words represented as indices of of one-hot vectors. The embedding layer will then map these down to an `embedding_dim`-dimensional space. The LSTM takes this sequence of embeddings and iterates over it, fielding an output vector of length `hidden_dim`. The final linear layer acts as a classifier; applying `log_softmax()` to the output of the final layer converts the output into a normalized set of estimated probabilities that a given word maps to a given tag.\n",
    "\n",
    "If you'd like to see this network in action, check out the [Sequence Models and LSTM Networks](https://pytorch.org/tutorials/beginner/nlp/sequence_models_tutorial.html) tutorial on pytorch.org.\n",
    "\n",
    "### Transformers\n",
    "\n",
    "*Transformers* are multi-purpose networks that have taken over the state of the art in NLP with models like BERT. A discussion of transformer architecture is beyond the scope of this video, but PyTorch has a `Transformer` class that allows you to define the overall parameters of a transformer model - the number of attention heads, the number of encoder & decoder layers, dropout and activation functions, etc. (You can even build the BERT model from this single class, with the right parameters!) The `torch.nn.Transformer` class also has classes to encapsulate the individual components (`TransformerEncoder`, `TransformerDecoder`) and subcomponents (`TransformerEncoderLayer`, `TransformerDecoderLayer`). For details, check out the [documentation](https://pytorch.org/docs/stable/nn.html#transformer) on transformer classes, and the relevant [tutorial](https://pytorch.org/tutorials/beginner/transformer_tutorial.html) on pytorch.org.\n",
    "\n",
    "## Other Layers and Functions\n",
    "\n",
    "### Data Manipulation Layers\n",
    "\n",
    "There are other layer types that perform important functions in models, but don't participate in the learning process themselves.\n",
    "\n",
    "**Max pooling** (and its twin, min pooling) reduce a tensor by combining cells, and assigning the maximum value of the input cells to the output cell. (We saw this ) For example:"
   ]
  },
  {
   "cell_type": "code",
   "execution_count": 5,
   "metadata": {},
   "outputs": [
    {
     "name": "stdout",
     "output_type": "stream",
     "text": [
      "tensor([[[6.2451e-01, 4.5900e-01, 4.0252e-02, 3.3540e-01, 1.1727e-01,\n",
      "          1.1532e-02],\n",
      "         [9.5854e-01, 3.8448e-01, 5.8191e-01, 7.4229e-01, 5.3220e-01,\n",
      "          6.1816e-04],\n",
      "         [3.6612e-01, 3.9592e-01, 2.1587e-01, 8.2083e-02, 3.9500e-01,\n",
      "          6.9634e-01],\n",
      "         [3.9344e-01, 8.7182e-01, 9.2931e-01, 3.7575e-01, 2.3682e-02,\n",
      "          1.8810e-02],\n",
      "         [4.2096e-01, 8.7221e-01, 6.1747e-01, 6.7711e-01, 4.6025e-01,\n",
      "          9.1739e-01],\n",
      "         [5.3405e-01, 6.7275e-01, 4.5696e-01, 5.7225e-01, 5.5310e-02,\n",
      "          5.5216e-01]]])\n",
      "tensor([[[0.9585, 0.7423],\n",
      "         [0.9293, 0.9174]]])\n"
     ]
    }
   ],
   "source": [
    "my_tensor = torch.rand(1, 6, 6)\n",
    "print(my_tensor)\n",
    "\n",
    "maxpool_layer = torch.nn.MaxPool2d(3)\n",
    "print(maxpool_layer(my_tensor))"
   ]
  },
  {
   "cell_type": "markdown",
   "metadata": {},
   "source": [
    "If you look closely at the values above, you'll see that each of the values in the maxpooled output is the maximum value of each quadrant of the 6x6 input.\n",
    "\n",
    "**Normalization layers** re-center and normalize the output of one layer before feeding it to another. Centering the and scaling the intermediate tensors has a number of beneficial effects, such as letting you use higher learning rates without exploding/vanishing gradients."
   ]
  },
  {
   "cell_type": "code",
   "execution_count": 6,
   "metadata": {},
   "outputs": [
    {
     "name": "stdout",
     "output_type": "stream",
     "text": [
      "tensor([[[16.2180, 12.9107, 14.5172, 18.3073],\n",
      "         [22.3253, 12.2966,  6.9926,  8.9147],\n",
      "         [15.4149, 22.5282,  6.4068, 11.0629],\n",
      "         [ 8.5413,  7.9333,  6.7318, 20.2343]]])\n",
      "tensor(13.2085)\n",
      "tensor([[[ 0.3641, -1.2861, -0.4845,  1.4066],\n",
      "         [ 1.6402, -0.0568, -0.9543, -0.6291],\n",
      "         [ 0.2631,  1.4615, -1.2545, -0.4701],\n",
      "         [-0.4254, -0.5369, -0.7573,  1.7196]]],\n",
      "       grad_fn=<NativeBatchNormBackward0>)\n",
      "tensor(-1.4901e-08, grad_fn=<MeanBackward0>)\n"
     ]
    }
   ],
   "source": [
    "my_tensor = torch.rand(1, 4, 4) * 20 + 5\n",
    "print(my_tensor)\n",
    "\n",
    "print(my_tensor.mean())\n",
    "\n",
    "norm_layer = torch.nn.BatchNorm1d(4)\n",
    "normed_tensor = norm_layer(my_tensor)\n",
    "print(normed_tensor)\n",
    "\n",
    "print(normed_tensor.mean())\n"
   ]
  },
  {
   "cell_type": "markdown",
   "metadata": {},
   "source": [
    "Running the cell above, we've added a large scaling factor and offset to an input tensor; you should see the input tensor's `mean()` somewhere in the neighborhood of 15. After running it through the normalization layer, you can see that the values are smaller, and grouped around zero - in fact, the mean should be very small (> 1e-8).\n",
    "\n",
    "This is beneficial because many activation functions (discussed below) have their strongest gradients near 0, but sometimes suffer from vanishing or exploding gradients for inputs that drive them far away from zero. Keeping the data centered around the area of steepest gradient will tend to mean faster, better learning and higher feasible learning rates.\n",
    "\n",
    "**Dropout layers** are a tool for encouraging *sparse representations* in your model - that is, pushing it to do inference with less data.\n",
    "\n",
    "Dropout layers work by randomly setting parts of the input tensor *during training* - dropout layers are always turned off for inference. This forces the model to learn against this masked or reduced dataset. For example:"
   ]
  },
  {
   "cell_type": "code",
   "execution_count": 7,
   "metadata": {},
   "outputs": [
    {
     "name": "stdout",
     "output_type": "stream",
     "text": [
      "tensor([[[0.2654, 0.7520, 1.4437, 0.0000],\n",
      "         [1.0232, 0.0000, 0.0000, 0.9223],\n",
      "         [0.0035, 1.3563, 1.3313, 1.5067],\n",
      "         [1.1491, 0.0000, 1.1862, 0.7400]]])\n",
      "tensor([[[0.0000, 0.0000, 1.4437, 1.5658],\n",
      "         [1.0232, 1.6128, 0.0000, 0.0000],\n",
      "         [0.0035, 0.0000, 1.3313, 0.0000],\n",
      "         [0.0000, 0.0000, 1.1862, 0.7400]]])\n"
     ]
    }
   ],
   "source": [
    "my_tensor = torch.rand(1, 4, 4)\n",
    "\n",
    "dropout = torch.nn.Dropout(p=0.4)\n",
    "print(dropout(my_tensor))\n",
    "print(dropout(my_tensor))"
   ]
  },
  {
   "cell_type": "markdown",
   "metadata": {},
   "source": [
    "Above, you can see the effect of dropout on a sample tensor. You can use the optional `p` argument to set the probability of an individual weight dropping out; if you don't it defaults to 0.5.\n",
    "\n",
    "### Activation Functions\n",
    "\n",
    "Activation functions make deep learning possible. A neural network is really a program - with many parameters - that *simulates a mathematical function*. If all we did was multiple tensors by layer weights repeatedly, we could only simulate *linear functions;* further, there would be no point to having many layers, as the whole network would reduce could be reduced to a single matrix multiplication. Inserting *non-linear* activation functions between layers is what allows a deep learning model to simulate any function, rather than just linear ones.\n",
    "\n",
    "`torch.nn.Module` has objects encapsulating all of the major activation functions including ReLU and its many variants, Tanh, Hardtanh, sigmoid, and more. It also includes other functions, such as Softmax, that are most useful at the output stage of a model.\n",
    "\n",
    "### Loss Functions\n",
    "\n",
    "Loss functions tell us how far a model's prediction is from the correct answer. PyTorch contains a variety of loss functions, including common MSE (mean squared error = L2 norm), Cross Entropy Loss and Negative Likelihood Loss (useful for classifiers), and others."
   ]
  },
  {
   "cell_type": "markdown",
   "metadata": {},
   "source": [
    "## Advanced: Replacing Layers"
   ]
  },
  {
   "cell_type": "code",
   "execution_count": null,
   "metadata": {},
   "outputs": [],
   "source": []
  }
 ],
 "metadata": {
  "kernelspec": {
   "display_name": "Python 3",
   "language": "python",
   "name": "python3"
  },
  "language_info": {
   "codemirror_mode": {
    "name": "ipython",
    "version": 3
   },
   "file_extension": ".py",
   "mimetype": "text/x-python",
   "name": "python",
   "nbconvert_exporter": "python",
   "pygments_lexer": "ipython3",
   "version": "3.10.1"
  }
 },
 "nbformat": 4,
 "nbformat_minor": 4
}
