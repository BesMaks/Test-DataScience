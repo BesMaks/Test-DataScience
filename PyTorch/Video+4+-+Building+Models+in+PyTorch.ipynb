{
 "cells": [
  {
   "cell_type": "markdown",
   "metadata": {},
   "source": [
    "# Building Models in PyTorch\n",
    "\n",
    "\n",
    "## `torch.nn.Module` and `torch.nn.Parameter`\n",
    "\n",
    "In this video, we'll be discussing some of the tools PyTorch makes available for building deep learning networks.\n",
    "\n",
    "Except for `Parameter`, the classes we discuss in this video are all subclasses of `torch.nn.Module`. This is the PyTorch base class meant to encapsulate behaviors specific to PyTorch Models and their components.\n",
    "\n",
    "One important behavior of `torch.nn.Module` is registering parameters. If a particular `Module` subclass has learning weights, these weights are expressed as instances of `torch.nn.Parameter`. The `Parameter` class is a subclass of `torch.Tensor`, with the special behavior that when they are assigned as attributes of a `Module`, they are added to the list of that modules parameters. These parameters may be accessed through the `parameters()` method on the `Module` class.\n",
    "\n",
    "As a simple example, here's a very simple model with two linear layers and an activation function. We'll create an instance of it and ask it to report on its parameters:"
   ]
  },
  {
   "cell_type": "code",
   "execution_count": 1,
   "metadata": {},
   "outputs": [
    {
     "name": "stdout",
     "output_type": "stream",
     "text": [
      "The model:\n",
      "TinyModel(\n",
      "  (linear1): Linear(in_features=100, out_features=200, bias=True)\n",
      "  (activation): ReLU()\n",
      "  (linear2): Linear(in_features=200, out_features=10, bias=True)\n",
      "  (softmax): Softmax(dim=None)\n",
      ")\n",
      "\n",
      "\n",
      "Just one layer:\n",
      "Linear(in_features=200, out_features=10, bias=True)\n",
      "\n",
      "\n",
      "Model params:\n",
      "Parameter containing:\n",
      "tensor([[ 0.0514,  0.0780,  0.0069,  ..., -0.0844, -0.0401,  0.0255],\n",
      "        [-0.0328,  0.0807,  0.0092,  ..., -0.0638, -0.0393,  0.0227],\n",
      "        [-0.0109,  0.0145,  0.0560,  ...,  0.0973, -0.0178,  0.0723],\n",
      "        ...,\n",
      "        [-0.0559,  0.0792, -0.0790,  ...,  0.0824, -0.0610,  0.0767],\n",
      "        [ 0.0340,  0.0329,  0.0424,  ..., -0.0950, -0.0217, -0.0937],\n",
      "        [-0.0373, -0.0782, -0.0543,  ...,  0.0532,  0.0323,  0.0062]],\n",
      "       requires_grad=True)\n",
      "Parameter containing:\n",
      "tensor([ 8.3089e-02,  3.0712e-02, -4.6420e-02,  9.3076e-02, -4.3254e-02,\n",
      "        -9.6654e-02, -7.9761e-02, -7.8007e-02,  7.9871e-02,  9.2101e-03,\n",
      "        -2.0040e-03, -6.4444e-02,  7.2190e-02,  5.2025e-02,  4.0534e-02,\n",
      "         1.1919e-03,  9.2567e-02, -3.7276e-02,  7.3816e-03, -4.1831e-02,\n",
      "        -1.2763e-02, -5.8796e-02, -2.2352e-02, -7.7699e-02, -8.2380e-03,\n",
      "         5.7976e-02, -6.5059e-02, -3.6939e-02, -1.2253e-02, -4.8443e-02,\n",
      "        -6.9903e-02,  8.9552e-03,  4.8620e-02,  6.1893e-03, -5.8790e-02,\n",
      "        -3.7147e-02,  1.6490e-02,  8.8313e-02,  6.0588e-02, -5.3790e-03,\n",
      "         1.8135e-02,  1.9494e-02, -4.7270e-02,  6.1972e-02,  9.5219e-02,\n",
      "        -4.3362e-02, -1.2458e-03, -2.8883e-02,  6.3284e-02, -9.4346e-02,\n",
      "        -3.2752e-02,  8.9771e-02,  2.4823e-02, -7.5538e-02,  1.3501e-02,\n",
      "         1.7026e-02, -4.0595e-02,  1.0728e-02, -1.9732e-02,  8.2280e-02,\n",
      "        -5.0223e-02, -7.2985e-02,  8.1749e-02, -1.9917e-02,  7.5325e-02,\n",
      "        -4.7040e-03, -8.5897e-02,  6.1706e-02, -1.9660e-02,  3.5568e-02,\n",
      "         2.6093e-02,  3.3713e-02,  5.4700e-02,  9.7663e-02,  8.5661e-02,\n",
      "        -7.0456e-02,  7.0003e-02,  2.7315e-03, -9.9108e-02,  5.2909e-02,\n",
      "         5.9846e-02,  3.3225e-02, -1.9612e-02,  5.6638e-02, -4.6195e-03,\n",
      "        -5.2219e-02, -3.9306e-02,  4.8651e-03,  4.1576e-02, -9.5892e-02,\n",
      "         9.3153e-02, -2.7044e-03, -4.1493e-02,  1.2904e-02,  9.8334e-03,\n",
      "         9.6777e-02, -4.5972e-02, -9.5472e-02,  4.2967e-02, -9.7216e-02,\n",
      "        -9.8703e-02,  6.0263e-02, -7.4809e-02, -6.1324e-03,  6.6555e-02,\n",
      "        -1.4970e-02,  6.6053e-02, -2.8491e-05, -6.2903e-02,  1.7545e-02,\n",
      "         5.9489e-02,  2.1284e-02, -1.6029e-02,  3.7688e-02,  6.2843e-02,\n",
      "        -9.7930e-02, -7.6165e-02, -2.6849e-02, -3.5328e-02,  3.5880e-03,\n",
      "         6.6630e-02, -6.7323e-03, -2.3400e-02, -7.3075e-02, -8.9671e-02,\n",
      "        -9.9773e-02, -8.1607e-02, -4.1303e-02, -5.8594e-02, -2.7185e-02,\n",
      "        -9.4243e-02,  1.4933e-02,  7.6210e-02,  1.3004e-02, -5.7926e-02,\n",
      "         6.5224e-02,  2.7530e-02,  5.0179e-02, -4.0049e-02, -6.6686e-02,\n",
      "        -2.5879e-02, -1.8765e-03,  9.1674e-03, -1.3202e-02,  2.7942e-02,\n",
      "         9.1282e-02,  6.2023e-02,  3.9766e-02, -7.7448e-02, -4.8734e-02,\n",
      "        -3.1143e-02,  4.4317e-02,  1.5649e-02,  5.5865e-02,  6.7444e-02,\n",
      "        -1.7225e-02, -9.9891e-02, -5.8726e-02,  9.3389e-02, -5.6412e-02,\n",
      "         3.6232e-02,  5.0456e-02, -9.9472e-02,  5.9950e-02, -7.0127e-02,\n",
      "        -1.8814e-02,  7.9273e-02, -6.6717e-02, -6.7442e-02,  6.9624e-02,\n",
      "         4.7050e-02, -2.1460e-02,  6.7823e-02, -4.1355e-02,  1.7302e-02,\n",
      "        -9.6411e-02, -6.4970e-03,  2.8257e-02,  7.6104e-02, -4.4581e-02,\n",
      "         7.7123e-02, -4.1967e-02,  8.4773e-02,  3.2355e-02, -7.3608e-02,\n",
      "         7.9180e-03, -8.8155e-02, -7.6755e-02, -8.3479e-02, -2.1008e-02,\n",
      "        -5.4866e-02, -8.9141e-04,  5.0206e-02,  7.6642e-02, -1.6523e-02,\n",
      "         2.9153e-02,  3.4265e-02,  6.5257e-02, -5.8000e-03, -9.3576e-03],\n",
      "       requires_grad=True)\n",
      "Parameter containing:\n",
      "tensor([[-0.0120,  0.0410, -0.0268,  ...,  0.0155, -0.0247,  0.0083],\n",
      "        [-0.0648, -0.0042,  0.0477,  ...,  0.0475, -0.0441, -0.0620],\n",
      "        [-0.0091, -0.0524,  0.0200,  ..., -0.0550, -0.0412,  0.0688],\n",
      "        ...,\n",
      "        [ 0.0660, -0.0516,  0.0615,  ...,  0.0104, -0.0603, -0.0029],\n",
      "        [-0.0247,  0.0409, -0.0508,  ...,  0.0024,  0.0398, -0.0299],\n",
      "        [ 0.0155, -0.0614, -0.0139,  ..., -0.0094, -0.0301, -0.0183]],\n",
      "       requires_grad=True)\n",
      "Parameter containing:\n",
      "tensor([ 0.0236,  0.0167, -0.0573,  0.0486, -0.0173, -0.0685, -0.0452, -0.0163,\n",
      "        -0.0646,  0.0304], requires_grad=True)\n",
      "\n",
      "\n",
      "Layer params:\n",
      "Parameter containing:\n",
      "tensor([[-0.0120,  0.0410, -0.0268,  ...,  0.0155, -0.0247,  0.0083],\n",
      "        [-0.0648, -0.0042,  0.0477,  ...,  0.0475, -0.0441, -0.0620],\n",
      "        [-0.0091, -0.0524,  0.0200,  ..., -0.0550, -0.0412,  0.0688],\n",
      "        ...,\n",
      "        [ 0.0660, -0.0516,  0.0615,  ...,  0.0104, -0.0603, -0.0029],\n",
      "        [-0.0247,  0.0409, -0.0508,  ...,  0.0024,  0.0398, -0.0299],\n",
      "        [ 0.0155, -0.0614, -0.0139,  ..., -0.0094, -0.0301, -0.0183]],\n",
      "       requires_grad=True)\n",
      "Parameter containing:\n",
      "tensor([ 0.0236,  0.0167, -0.0573,  0.0486, -0.0173, -0.0685, -0.0452, -0.0163,\n",
      "        -0.0646,  0.0304], requires_grad=True)\n"
     ]
    }
   ],
   "source": [
    "import torch\n",
    "\n",
    "class TinyModel(torch.nn.Module):\n",
    "    \n",
    "    def __init__(self):\n",
    "        super(TinyModel, self).__init__()\n",
    "        \n",
    "        self.linear1 = torch.nn.Linear(100, 200)\n",
    "        self.activation = torch.nn.ReLU()\n",
    "        self.linear2 = torch.nn.Linear(200, 10)\n",
    "        self.softmax = torch.nn.Softmax()\n",
    "    \n",
    "    def forward(self, x):\n",
    "        x = self.linear1(x)\n",
    "        x = self.activation(x)\n",
    "        x = self.linear2(x)\n",
    "        x = self.softmax(x)\n",
    "        return x\n",
    "\n",
    "tinymodel = TinyModel()\n",
    "\n",
    "print('The model:')\n",
    "print(tinymodel)\n",
    "\n",
    "print('\\n\\nJust one layer:')\n",
    "print(tinymodel.linear2)\n",
    "\n",
    "print('\\n\\nModel params:')\n",
    "for param in tinymodel.parameters():\n",
    "    print(param)\n",
    "\n",
    "print('\\n\\nLayer params:')\n",
    "for param in tinymodel.linear2.parameters():\n",
    "    print(param)"
   ]
  },
  {
   "cell_type": "markdown",
   "metadata": {},
   "source": [
    "This shows the fundamental structure of a PyTorch model: there is an `__init__()` method that defines the layers and other components of a model, and a `forward()` method where the computation gets done. Note that we can print the model, or any of its submodules, to learn about its structure.\n",
    "\n",
    "## Common Layer Types\n",
    "\n",
    "### Linear Layers\n",
    "\n",
    "The most basic type of neural network layer is a *linear* or *fully connected* layer. This is a layer where every input influences every output of the layer to a degree specified by the layer's weights. If a model has *m* inputs and *n* outputs, the weights will be an *m * n* matrix. For example:"
   ]
  },
  {
   "cell_type": "code",
   "execution_count": 2,
   "metadata": {},
   "outputs": [
    {
     "name": "stdout",
     "output_type": "stream",
     "text": [
      "Input:\n",
      "tensor([[0.9573, 0.0978, 0.1961]])\n",
      "\n",
      "\n",
      "Weight and Bias parameters:\n",
      "Parameter containing:\n",
      "tensor([[-0.4686, -0.1495, -0.3340],\n",
      "        [ 0.2151,  0.4080,  0.2480]], requires_grad=True)\n",
      "Parameter containing:\n",
      "tensor([0.2203, 0.0641], requires_grad=True)\n",
      "\n",
      "\n",
      "Output:\n",
      "tensor([[-0.3085,  0.3586]], grad_fn=<AddmmBackward0>)\n"
     ]
    }
   ],
   "source": [
    "lin = torch.nn.Linear(3, 2)\n",
    "x = torch.rand(1, 3)\n",
    "print('Input:')\n",
    "print(x)\n",
    "\n",
    "print('\\n\\nWeight and Bias parameters:')\n",
    "for param in lin.parameters():\n",
    "    print(param)\n",
    "\n",
    "y = lin(x)\n",
    "print('\\n\\nOutput:')\n",
    "print(y)"
   ]
  },
  {
   "cell_type": "markdown",
   "metadata": {},
   "source": [
    "If you do the matrix multiplication of `x` by the linear layer's weights, and add the biases, you'll find that you get the output vector `y`.\n",
    "\n",
    "One other important feature to note: When we checked the weights of our layer with `lin.weight`, it reported itself as a `Parameter` (which is a subclass of `Tensor`), and let us know that it's tracking gradients with autograd. This is a default behavior for `Parameter` that differs from `Tensor`.\n",
    "\n",
    "Linear layers are used widely in deep learning models. One of the most common places you'll see them is in classifier models, which will usually have one or more linear layers at the end, where the last layer will have *n* outputs, where *n* is the number of classes the classifier addresses.\n",
    "\n",
    "### Convolutional Layers\n",
    "\n",
    "*Convolutional* layers are built to handle data with a high degree of spatial correlation. They are very commonly used in computer vision, where they detect close groupings of features which the compose into higher-level features. They pop up in other contexts too - for example, in NLP applications, where the a word's immediate context (that is, the other words nearby in the sequence) can affect the meaning of a sentence.\n",
    "\n",
    "We saw convolutional layers in action in LeNet5 in an earlier video:"
   ]
  },
  {
   "cell_type": "code",
   "execution_count": 3,
   "metadata": {},
   "outputs": [],
   "source": [
    "import torch.functional as F\n",
    "\n",
    "\n",
    "class LeNet(torch.nn.Module):\n",
    "\n",
    "    def __init__(self):\n",
    "        super(LeNet, self).__init__()\n",
    "        # 1 input image channel (black & white), 6 output channels, 3x3 square convolution\n",
    "        # kernel\n",
    "        self.conv1 = torch.nn.Conv2d(1, 6, 5)\n",
    "        self.conv2 = torch.nn.Conv2d(6, 16, 3)\n",
    "        # an affine operation: y = Wx + b\n",
    "        self.fc1 = torch.nn.Linear(16 * 6 * 6, 120)  # 6*6 from image dimension\n",
    "        self.fc2 = torch.nn.Linear(120, 84)\n",
    "        self.fc3 = torch.nn.Linear(84, 10)\n",
    "\n",
    "    def forward(self, x):\n",
    "        # Max pooling over a (2, 2) window\n",
    "        x = F.max_pool2d(F.relu(self.conv1(x)), (2, 2))\n",
    "        # If the size is a square you can only specify a single number\n",
    "        x = F.max_pool2d(F.relu(self.conv2(x)), 2)\n",
    "        x = x.view(-1, self.num_flat_features(x))\n",
    "        x = F.relu(self.fc1(x))\n",
    "        x = F.relu(self.fc2(x))\n",
    "        x = self.fc3(x)\n",
    "        return x\n",
    "\n",
    "    def num_flat_features(self, x):\n",
    "        size = x.size()[1:]  # all dimensions except the batch dimension\n",
    "        num_features = 1\n",
    "        for s in size:\n",
    "            num_features *= s\n",
    "        return num_features"
   ]
  },
  {
   "cell_type": "markdown",
   "metadata": {},
   "source": [
    "Let's break down what's happening in the convolutional layers of this model. Starting with `conv1`:\n",
    "\n",
    "* LeNet5 is meant to take in a 1x32x32 black & white image. **The first argument to a convolutional layer's constructor is the number of input channels.** Here, it is 1. If we were building this model to look at 3-color channels, it would be 3.\n",
    "* A convolutional layer is like a window that scans over the image, looking for a pattern it recognizes. These patterns are called *features,* and one of the parameters of a convolutional layer is the number of features we would like it to learn. **This is the second argument to the constructor is the number of output features.** Here, we're asking our layer to learn 6 features.\n",
    "* Just above, I likened the convolutional layer to a window - but how big is the window? **The third argument is the window or *kernel* size.** Here, the \"5\" means we've chosen a 5x5 kernel. (If you want a kernel with height different from width, you can specify a tuple for this argument - e.g., `(3, 5)` to get a 3x5 convolution kernel.)\n",
    "\n",
    "The output of a convolutional layer is an *activation map* - a spatial representation of the presence of features in the input tensor. `conv1` will give us an output tensor of 6x28x28; 6 is the number of features, and 28 is the height and width of our map. (The 28 comes from the fact that when scanning a 5-pixel window over a 32-pixel row, there are only 28 valid positions.)\n",
    "\n",
    "We then pass the output of the convolution through a ReLU activation function (more on activation functions later), then through a max pooling layer. The max pooling layer takes features near each other in the activation map and groups them together. It does this by reducing the tensor, merging every 2x2 group of cells in the output into a single cell, and assigning that cell the maximum value of the 4 cells that went into it. This gives us a lower-resolution version of the activation map, with dimensions 6x14x14.\n",
    "\n",
    "Our next convolutional layer, `conv2`, expects 6 input channels (corresponding to the 6 features sought by the first layer), has 16 output channels, and a 3x3 kernel. It puts out a 16x12x12 activation map, which is again reduced by a max pooling layer to 16x6x6. Prior to passing this output to the linear layers, it is reshaped to a 16 * 6 * 6 = 576-element vector for consumption by the next layer.\n",
    "\n",
    "There are convolutional layers for addressing 1D, 2D, and 3D tensors. There are also many more optional arguments for a conv layer constructor, including stride length(e.g., only scanning every second or every third position) in the input, padding (so you can scan out to the edges of the input), and more. See the [documentation](https://pytorch.org/docs/stable/nn.html#convolution-layers) for more information.\n",
    "\n",
    "### Recurrent Layers\n",
    "\n",
    "*Recurrent neural networks* (or *RNNs)* are used for sequential data - anything from time-series measurements from a scientific instrument to natural language sentences to DNA nucleotides. An RNN does this by maintaining a *hidden state* that acts as a sort of memory for what it has seen in the sequence so far.\n",
    "\n",
    "The internal structure of an RNN layer - or its variants, the LSTM (long short-term memory) and GRU (gated recurrent unit) - is moderately complex and beyond the scope of this video, but we'll show you what one looks like in action with an LSTM-based part-of-speech tagger (a type of classifier that tells you if a word is a noun, verb, etc.):"
   ]
  },
  {
   "cell_type": "code",
   "execution_count": 4,
   "metadata": {},
   "outputs": [],
   "source": [
    "class LSTMTagger(torch.nn.Module):\n",
    "\n",
    "    def __init__(self, embedding_dim, hidden_dim, vocab_size, tagset_size):\n",
    "        super(LSTMTagger, self).__init__()\n",
    "        self.hidden_dim = hidden_dim\n",
    "\n",
    "        self.word_embeddings = torch.nn.Embedding(vocab_size, embedding_dim)\n",
    "\n",
    "        # The LSTM takes word embeddings as inputs, and outputs hidden states\n",
    "        # with dimensionality hidden_dim.\n",
    "        self.lstm = torch.nn.LSTM(embedding_dim, hidden_dim)\n",
    "\n",
    "        # The linear layer that maps from hidden state space to tag space\n",
    "        self.hidden2tag = torch.nn.Linear(hidden_dim, tagset_size)\n",
    "\n",
    "    def forward(self, sentence):\n",
    "        embeds = self.word_embeddings(sentence)\n",
    "        lstm_out, _ = self.lstm(embeds.view(len(sentence), 1, -1))\n",
    "        tag_space = self.hidden2tag(lstm_out.view(len(sentence), -1))\n",
    "        tag_scores = F.log_softmax(tag_space, dim=1)\n",
    "        return tag_scores"
   ]
  },
  {
   "cell_type": "markdown",
   "metadata": {},
   "source": [
    "The constructor has four arguments:\n",
    "\n",
    "* `vocab_size` is the number of words in the input vocabulary. Each word is a one-hot vector (or unit vector) in a `vocab_size`-dimensional space.\n",
    "* `tagset_size` is the number of tags in the output set.\n",
    "* `embedding_dim` is the size of the *embedding* space for the vocabulary. An embedding maps a vocabulary onto a low-dimensional space, where words with similar meanings are close together in the space.\n",
    "* `hidden_dim` is the size of the LSTM's memory.\n",
    "\n",
    "The input will be a sentence with the words represented as indices of of one-hot vectors. The embedding layer will then map these down to an `embedding_dim`-dimensional space. The LSTM takes this sequence of embeddings and iterates over it, fielding an output vector of length `hidden_dim`. The final linear layer acts as a classifier; applying `log_softmax()` to the output of the final layer converts the output into a normalized set of estimated probabilities that a given word maps to a given tag.\n",
    "\n",
    "If you'd like to see this network in action, check out the [Sequence Models and LSTM Networks](https://pytorch.org/tutorials/beginner/nlp/sequence_models_tutorial.html) tutorial on pytorch.org.\n",
    "\n",
    "### Transformers\n",
    "\n",
    "*Transformers* are multi-purpose networks that have taken over the state of the art in NLP with models like BERT. A discussion of transformer architecture is beyond the scope of this video, but PyTorch has a `Transformer` class that allows you to define the overall parameters of a transformer model - the number of attention heads, the number of encoder & decoder layers, dropout and activation functions, etc. (You can even build the BERT model from this single class, with the right parameters!) The `torch.nn.Transformer` class also has classes to encapsulate the individual components (`TransformerEncoder`, `TransformerDecoder`) and subcomponents (`TransformerEncoderLayer`, `TransformerDecoderLayer`). For details, check out the [documentation](https://pytorch.org/docs/stable/nn.html#transformer) on transformer classes, and the relevant [tutorial](https://pytorch.org/tutorials/beginner/transformer_tutorial.html) on pytorch.org.\n",
    "\n",
    "## Other Layers and Functions\n",
    "\n",
    "### Data Manipulation Layers\n",
    "\n",
    "There are other layer types that perform important functions in models, but don't participate in the learning process themselves.\n",
    "\n",
    "**Max pooling** (and its twin, min pooling) reduce a tensor by combining cells, and assigning the maximum value of the input cells to the output cell. (We saw this ) For example:"
   ]
  },
  {
   "cell_type": "code",
   "execution_count": 5,
   "metadata": {},
   "outputs": [
    {
     "name": "stdout",
     "output_type": "stream",
     "text": [
      "tensor([[[0.6183, 0.2537, 0.4591, 0.1623, 0.0223, 0.4755],\n",
      "         [0.5319, 0.7480, 0.8470, 0.7334, 0.8426, 0.8778],\n",
      "         [0.9662, 0.6554, 0.3911, 0.4548, 0.7572, 0.7553],\n",
      "         [0.4050, 0.2754, 0.8051, 0.5751, 0.1963, 0.9665],\n",
      "         [0.4313, 0.7398, 0.5101, 0.7451, 0.4122, 0.1934],\n",
      "         [0.8643, 0.6480, 0.2124, 0.2774, 0.1767, 0.3144]]])\n",
      "tensor([[[0.9662, 0.8778],\n",
      "         [0.8643, 0.9665]]])\n"
     ]
    }
   ],
   "source": [
    "my_tensor = torch.rand(1, 6, 6)\n",
    "print(my_tensor)\n",
    "\n",
    "maxpool_layer = torch.nn.MaxPool2d(3)\n",
    "print(maxpool_layer(my_tensor))"
   ]
  },
  {
   "cell_type": "markdown",
   "metadata": {},
   "source": [
    "If you look closely at the values above, you'll see that each of the values in the maxpooled output is the maximum value of each quadrant of the 6x6 input.\n",
    "\n",
    "**Normalization layers** re-center and normalize the output of one layer before feeding it to another. Centering the and scaling the intermediate tensors has a number of beneficial effects, such as letting you use higher learning rates without exploding/vanishing gradients."
   ]
  },
  {
   "cell_type": "code",
   "execution_count": 6,
   "metadata": {},
   "outputs": [
    {
     "name": "stdout",
     "output_type": "stream",
     "text": [
      "tensor([[[13.4718,  6.0320, 24.6095, 14.1486],\n",
      "         [21.2415, 18.9381, 19.5437,  6.7328],\n",
      "         [ 8.1347, 15.6120, 22.7412,  8.8774],\n",
      "         [14.2071, 21.0898, 24.3070, 14.6914]]])\n",
      "tensor(15.8987)\n",
      "tensor([[[-0.1653, -1.2899,  1.5182, -0.0630],\n",
      "         [ 0.8024,  0.4030,  0.5080, -1.7134],\n",
      "         [-0.9662,  0.2998,  1.5068, -0.8404],\n",
      "         [-1.0198,  0.5876,  1.3389, -0.9067]]],\n",
      "       grad_fn=<NativeBatchNormBackward0>)\n",
      "tensor(4.4703e-08, grad_fn=<MeanBackward0>)\n"
     ]
    }
   ],
   "source": [
    "my_tensor = torch.rand(1, 4, 4) * 20 + 5\n",
    "print(my_tensor)\n",
    "\n",
    "print(my_tensor.mean())\n",
    "\n",
    "norm_layer = torch.nn.BatchNorm1d(4)\n",
    "normed_tensor = norm_layer(my_tensor)\n",
    "print(normed_tensor)\n",
    "\n",
    "print(normed_tensor.mean())\n"
   ]
  },
  {
   "cell_type": "markdown",
   "metadata": {},
   "source": [
    "Running the cell above, we've added a large scaling factor and offset to an input tensor; you should see the input tensor's `mean()` somewhere in the neighborhood of 15. After running it through the normalization layer, you can see that the values are smaller, and grouped around zero - in fact, the mean should be very small (> 1e-8).\n",
    "\n",
    "This is beneficial because many activation functions (discussed below) have their strongest gradients near 0, but sometimes suffer from vanishing or exploding gradients for inputs that drive them far away from zero. Keeping the data centered around the area of steepest gradient will tend to mean faster, better learning and higher feasible learning rates.\n",
    "\n",
    "**Dropout layers** are a tool for encouraging *sparse representations* in your model - that is, pushing it to do inference with less data.\n",
    "\n",
    "Dropout layers work by randomly setting parts of the input tensor *during training* - dropout layers are always turned off for inference. This forces the model to learn against this masked or reduced dataset. For example:"
   ]
  },
  {
   "cell_type": "code",
   "execution_count": 7,
   "metadata": {},
   "outputs": [
    {
     "name": "stdout",
     "output_type": "stream",
     "text": [
      "tensor([[[0.1121, 0.7121, 1.4937, 0.0000],\n",
      "         [0.0000, 0.4161, 0.0000, 0.0000],\n",
      "         [0.0000, 1.2270, 0.5102, 0.0000],\n",
      "         [0.0476, 0.4375, 0.0000, 0.0000]]])\n",
      "tensor([[[0.1121, 0.7121, 1.4937, 0.4478],\n",
      "         [0.8810, 0.4161, 0.5386, 0.0000],\n",
      "         [0.0000, 1.2270, 0.0000, 0.0000],\n",
      "         [0.0476, 0.4375, 1.4714, 0.0289]]])\n"
     ]
    }
   ],
   "source": [
    "my_tensor = torch.rand(1, 4, 4)\n",
    "\n",
    "dropout = torch.nn.Dropout(p=0.4)\n",
    "print(dropout(my_tensor))\n",
    "print(dropout(my_tensor))"
   ]
  },
  {
   "cell_type": "markdown",
   "metadata": {},
   "source": [
    "Above, you can see the effect of dropout on a sample tensor. You can use the optional `p` argument to set the probability of an individual weight dropping out; if you don't it defaults to 0.5.\n",
    "\n",
    "### Activation Functions\n",
    "\n",
    "Activation functions make deep learning possible. A neural network is really a program - with many parameters - that *simulates a mathematical function*. If all we did was multiple tensors by layer weights repeatedly, we could only simulate *linear functions;* further, there would be no point to having many layers, as the whole network would reduce could be reduced to a single matrix multiplication. Inserting *non-linear* activation functions between layers is what allows a deep learning model to simulate any function, rather than just linear ones.\n",
    "\n",
    "`torch.nn.Module` has objects encapsulating all of the major activation functions including ReLU and its many variants, Tanh, Hardtanh, sigmoid, and more. It also includes other functions, such as Softmax, that are most useful at the output stage of a model.\n",
    "\n",
    "### Loss Functions\n",
    "\n",
    "Loss functions tell us how far a model's prediction is from the correct answer. PyTorch contains a variety of loss functions, including common MSE (mean squared error = L2 norm), Cross Entropy Loss and Negative Likelihood Loss (useful for classifiers), and others."
   ]
  },
  {
   "cell_type": "markdown",
   "metadata": {},
   "source": [
    "## Advanced: Replacing Layers"
   ]
  },
  {
   "cell_type": "code",
   "execution_count": null,
   "metadata": {},
   "outputs": [],
   "source": []
  }
 ],
 "metadata": {
  "kernelspec": {
   "display_name": "Python 3",
   "language": "python",
   "name": "python3"
  },
  "language_info": {
   "codemirror_mode": {
    "name": "ipython",
    "version": 3
   },
   "file_extension": ".py",
   "mimetype": "text/x-python",
   "name": "python",
   "nbconvert_exporter": "python",
   "pygments_lexer": "ipython3",
   "version": "3.10.0"
  }
 },
 "nbformat": 4,
 "nbformat_minor": 4
}
